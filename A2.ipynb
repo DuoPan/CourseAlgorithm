{
 "cells": [
  {
   "cell_type": "code",
   "execution_count": null,
   "metadata": {
    "collapsed": true
   },
   "outputs": [],
   "source": [
    "# 2017 S2 FIT5211 Assignment 2\n",
    "# Duo Pan\n",
    "# 27554074"
   ]
  },
  {
   "cell_type": "code",
   "execution_count": 76,
   "metadata": {},
   "outputs": [
    {
     "name": "stdout",
     "output_type": "stream",
     "text": [
      "(14, 64)\n",
      "(16, 6)\n",
      "(18, 48)\n",
      "(39, 1)\n",
      "(44, 80)\n",
      "(47, 30)\n",
      "(54, 64)\n",
      "(65, 36)\n",
      "(83, 85)\n",
      "(95, 47)\n"
     ]
    }
   ],
   "source": [
    "\n",
    "from math import *\n",
    "import random\n",
    "\n",
    "class Point:\n",
    "    # constructor\n",
    "    def __init__(self, x, y):\n",
    "        self.x = x\n",
    "        self.y = y\n",
    "    \n",
    "    # distance to (0,0)\n",
    "    def distance_from_origin(self):\n",
    "        return sqrt(self.x * self.x + self.y * self.y)\n",
    "    \n",
    "    # normal distance between self and other point\n",
    "    def distance(self, other):\n",
    "        dx = self.x - other.x\n",
    "        dy = self.y - other.y\n",
    "        return sqrt(dx * dx + dy * dy)\n",
    "    \n",
    "    # reset x,y after translate\n",
    "    def translate(self, dx, dy):\n",
    "        self.x += dx\n",
    "        self.y += dy\n",
    "    \n",
    "    # make it can be printed as a string\n",
    "    def __str__(self):\n",
    "        return \"(\" + str(self.x) + \", \" + str(self.y) + \")\"\n",
    "    \n",
    "    # make the class can be compare, and it makes sort easily.\n",
    "    def __eq__(self, other):\n",
    "        return self.x == other.x and self.y == other.y\n",
    "    \n",
    "    def __gt__(self, other):\n",
    "        return self.x > other.x or (self.x == other.x and self.y > other.y)\n",
    "    \n",
    "    def __lt__(self, other):\n",
    "        return self.x < other.x or (self.x == other.x and self.y < other.y)\n",
    "    \n",
    "    # Manhattan distance\n",
    "    def manhattan(self, other):\n",
    "        return abs(self.x - other.x) + abs(self.y - other.y)\n",
    "    \n",
    "\n",
    "class PointSet:\n",
    "    # constructor\n",
    "    def __init__(self, init=None):\n",
    "        if init is None:\n",
    "            self.contents = []\n",
    "        else:\n",
    "            self.contents = init  \n",
    "    \n",
    "    # get length\n",
    "    def __len__(self):\n",
    "        return len(self.contents)\n",
    "    \n",
    "    # print all points in this set\n",
    "    def display(self):\n",
    "        for item in self.contents:\n",
    "            print(item)\n",
    "    \n",
    "    # is empty\n",
    "    def is_empty(self):\n",
    "        return self.contents == []\n",
    "    \n",
    "    # binary search, get the right index, called by insert() and remove()\n",
    "    # return index and 0/1, 0 means not find, 1 means find\n",
    "    def findPosition(self, elem):\n",
    "        low = 0  \n",
    "        high = len(self) - 1  \n",
    "        while low <= high:  \n",
    "            mid = (high + low) // 2  \n",
    "            if self.contents[mid] == elem:  \n",
    "                return mid, 1  \n",
    "            elif self.contents[mid] > elem:  \n",
    "                high = mid - 1  \n",
    "            else:  \n",
    "                low = mid + 1  \n",
    "        return low, 0\n",
    "    \n",
    "    # insert Point by x ascending order first, then y ascending\n",
    "    def insert(self, elem):\n",
    "        index, isfind = self.findPosition(elem)  \n",
    "        if isfind == 1:\n",
    "            # do not accept 2 points with the same x,y\n",
    "            return False\n",
    "        else:\n",
    "            self.contents.insert(index, elem) \n",
    "            return True\n",
    "    \n",
    "    # remove elem from the set\n",
    "    def remove(self, elem):\n",
    "        index, isfind = self.findPosition(elem) \n",
    "        if isfind == 1:\n",
    "            self.contents.pop(index)\n",
    "        else:\n",
    "            print(elem,end=' ')\n",
    "            print(\"is not in the set\")\n",
    "        \n",
    "    # clear the point set\n",
    "    def removeAll(self):\n",
    "        self.contents = []\n",
    "            \n",
    "    # get x list, used for plot\n",
    "    def getXS(self):\n",
    "        xs = []\n",
    "        for item in self.contents:\n",
    "            xs.append(item.x)\n",
    "        return xs\n",
    "     \n",
    "    # get y list, used for plot\n",
    "    def getYS(self):\n",
    "        ys = []\n",
    "        for item in self.contents:\n",
    "            ys.append(item.y)\n",
    "        return ys      \n",
    "\n",
    "    \n",
    "R = 100\n",
    "# randomly generate some points and store in the set\n",
    "def createRandomPoints(number):\n",
    "    ps = PointSet()\n",
    "    for i in range(0,number):\n",
    "        point = Point(random.randint(0,R),random.randint(0,R))\n",
    "        if ps.insert(point) == False:\n",
    "            i -= 1\n",
    "    return ps\n",
    "    \n",
    "pointSet = createRandomPoints(10)\n",
    "pointSet.display()"
   ]
  },
  {
   "cell_type": "code",
   "execution_count": 77,
   "metadata": {},
   "outputs": [
    {
     "data": {
      "image/png": "[encoded data removed]",
      "text/plain": [
       "<matplotlib.figure.Figure at 0x104f694e0>"
      ]
     },
     "metadata": {},
     "output_type": "display_data"
    }
   ],
   "source": [
    "import matplotlib.pyplot as plt\n",
    "plt.plot(pointSet.getXS(), pointSet.getYS(),'ro',marker='.')\n",
    "plt.show()"
   ]
  },
  {
   "cell_type": "code",
   "execution_count": 78,
   "metadata": {},
   "outputs": [],
   "source": [
    "class Partition:\n",
    "    def __init__(self):\n",
    "        self.parent = dict()\n",
    "        self.rank = dict()\n",
    "    \n",
    "    def make_partition(self):\n",
    "        pass\n",
    "        \n",
    "    def make_set(self,x):\n",
    "        self.parent[x] = x\n",
    "        self.rank[x] = 0\n",
    "        \n",
    "    def find(self,x):\n",
    "        if x != self.parent[x]:\n",
    "            self.parent[x] = self.find(self.parent[x])\n",
    "        return self.parent[x]\n",
    "    \n",
    "    def union(self,x, y):\n",
    "        A = self.find(x)\n",
    "        B = self.find(y)\n",
    "        if self.rank[A] < self.rank[B]:\n",
    "            self.parent[B] = A\n",
    "        else:\n",
    "            self.parent[A] = B\n",
    "            if self.rank[A] == self.rank[B]:\n",
    "                self.rank[B] = self.rank[B] + 1\n",
    "                \n",
    "                \n",
    "        "
   ]
  },
  {
   "cell_type": "code",
   "execution_count": 80,
   "metadata": {},
   "outputs": [
    {
     "name": "stdout",
     "output_type": "stream",
     "text": [
      "{'vertices': [0, 1, 2, 3, 4, 5, 6, 7, 8, 9], 'edges': {(34.0, 0, 4), (31.9531, 7, 9), (18.9737, 5, 7), (30.0832, 6, 7), (35.805, 6, 8), (16.4924, 0, 2), (30.0832, 3, 5), (23.5372, 1, 3), (18.868, 4, 6)}}\n",
      "total weights:  239.7958\n"
     ]
    }
   ],
   "source": [
    "partition = Partition()\n",
    "\n",
    "def kruskal(graph):\n",
    "    E = list(graph['edges'])\n",
    "    E.sort()\n",
    "    F = {}\n",
    "    F['vertices'] = graph['vertices']\n",
    "    F['edges'] = set([])\n",
    "    total = 0\n",
    "    for f in F['vertices']:\n",
    "        partition.make_set(f)\n",
    "    for i in range(0,len(E)):\n",
    "        u = E[i][1]\n",
    "        v = E[i][2]\n",
    "        if partition.find(u) != partition.find(v):\n",
    "            partition.union(u,v)\n",
    "            F['edges'].add(E[i])\n",
    "            total += E[i][0]\n",
    "    \n",
    "    return F, total\n",
    "\n",
    "graph = {\n",
    "'vertices': [i for i in range (0,len(pointSet.contents))],\n",
    "'edges': set([])\n",
    "}\n",
    "\n",
    "for i in range (0,len(pointSet.contents)):\n",
    "    for j in range (i+1,len(pointSet.contents)):\n",
    "        e = round(pointSet.contents[i].distance(pointSet.contents[j]),4)\n",
    "        graph['edges'].add((e,i,j))\n",
    "\n",
    "tree, total = kruskal(graph)\n",
    "print(tree)\n",
    "print('total weights: ', total)\n",
    "\n",
    "\n"
   ]
  },
  {
   "cell_type": "code",
   "execution_count": 82,
   "metadata": {},
   "outputs": [
    {
     "data": {
      "image/png": "[encoded data removed]",
      "text/plain": [
       "<matplotlib.figure.Figure at 0x104bcf278>"
      ]
     },
     "metadata": {},
     "output_type": "display_data"
    }
   ],
   "source": [
    "import matplotlib.pyplot as plt\n",
    "plt.plot(pointSet.getXS(), pointSet.getYS(),'ro',marker='.')\n",
    "for e in tree['edges']: \n",
    "    plt.plot([pointSet.contents[e[1]].x,pointSet.contents[e[2]].x],[pointSet.contents[e[1]].y,pointSet.contents[e[2]].y],'b')\n",
    "plt.show()"
   ]
  },
  {
   "cell_type": "code",
   "execution_count": 64,
   "metadata": {},
   "outputs": [
    {
     "name": "stdout",
     "output_type": "stream",
     "text": [
      "0\n"
     ]
    }
   ],
   "source": [
    "print(pointSet.contents[0].x)"
   ]
  },
  {
   "cell_type": "code",
   "execution_count": null,
   "metadata": {
    "collapsed": true
   },
   "outputs": [],
   "source": []
  }
 ],
 "metadata": {
  "kernelspec": {
   "display_name": "Python 3",
   "language": "python",
   "name": "python3"
  },
  "language_info": {
   "codemirror_mode": {
    "name": "ipython",
    "version": 3
   },
   "file_extension": ".py",
   "mimetype": "text/x-python",
   "name": "python",
   "nbconvert_exporter": "python",
   "pygments_lexer": "ipython3",
   "version": "3.6.1"
  }
 },
 "nbformat": 4,
 "nbformat_minor": 2
}
